{
 "cells": [
  {
   "cell_type": "code",
   "execution_count": 1,
   "id": "c2aba373-d98b-444a-b4d6-f46c650e93f2",
   "metadata": {},
   "outputs": [],
   "source": [
    "import spotipy\n",
    "import json\n",
    "import webbrowser \n",
    "import urllib.request #grab website\n",
    "import spotipy.util as util\n",
    "import base64\n",
    "import requests\n",
    "import random\n",
    "from spotipy.oauth2 import SpotifyOAuth\n",
    "from urllib.request import urlopen "
   ]
  },
  {
   "cell_type": "code",
   "execution_count": 16,
   "id": "a41bb72f-2428-4c2d-b884-0af636015ea5",
   "metadata": {},
   "outputs": [
    {
     "name": "stdout",
     "output_type": "stream",
     "text": [
      "https://api.coinlore.net/api/ticker/?id=90\n"
     ]
    }
   ],
   "source": [
    "#give the link a variable name called \"URL\"\n",
    "with open(\"btc_api.txt\", \"r\") as crypto_file :\n",
    "    crypto_key = crypto_file.read()\n",
    "\n",
    "url = f\"{crypto_key}90\"\n",
    "print(url)"
   ]
  },
  {
   "cell_type": "code",
   "execution_count": 18,
   "id": "a86c7110-66ae-42cc-8d0e-32a245d1399c",
   "metadata": {},
   "outputs": [
    {
     "data": {
      "text/plain": [
       "b''"
      ]
     },
     "execution_count": 18,
     "metadata": {},
     "output_type": "execute_result"
    }
   ],
   "source": [
    "response.read() "
   ]
  },
  {
   "cell_type": "code",
   "execution_count": 19,
   "id": "8482bdd3-6e05-461c-ba28-371338501af5",
   "metadata": {},
   "outputs": [
    {
     "ename": "JSONDecodeError",
     "evalue": "Expecting value: line 1 column 1 (char 0)",
     "output_type": "error",
     "traceback": [
      "\u001b[1;31m---------------------------------------------------------------------------\u001b[0m",
      "\u001b[1;31mJSONDecodeError\u001b[0m                           Traceback (most recent call last)",
      "Cell \u001b[1;32mIn[19], line 9\u001b[0m\n\u001b[0;32m      7\u001b[0m response\u001b[38;5;241m.\u001b[39mread()\n\u001b[0;32m      8\u001b[0m \u001b[38;5;66;03m#pull out all the JSON from response (its a list?)\u001b[39;00m\n\u001b[1;32m----> 9\u001b[0m crypto_json \u001b[38;5;241m=\u001b[39m \u001b[43mjson\u001b[49m\u001b[38;5;241;43m.\u001b[39;49m\u001b[43mloads\u001b[49m\u001b[43m(\u001b[49m\u001b[43mresponse\u001b[49m\u001b[38;5;241;43m.\u001b[39;49m\u001b[43mread\u001b[49m\u001b[43m(\u001b[49m\u001b[43m)\u001b[49m\u001b[43m)\u001b[49m\n\u001b[0;32m     10\u001b[0m \u001b[38;5;66;03m# print(crypto_json)\u001b[39;00m\n",
      "File \u001b[1;32m~\\AppData\\Local\\Programs\\Python\\Python312\\Lib\\json\\__init__.py:346\u001b[0m, in \u001b[0;36mloads\u001b[1;34m(s, cls, object_hook, parse_float, parse_int, parse_constant, object_pairs_hook, **kw)\u001b[0m\n\u001b[0;32m    341\u001b[0m     s \u001b[38;5;241m=\u001b[39m s\u001b[38;5;241m.\u001b[39mdecode(detect_encoding(s), \u001b[38;5;124m'\u001b[39m\u001b[38;5;124msurrogatepass\u001b[39m\u001b[38;5;124m'\u001b[39m)\n\u001b[0;32m    343\u001b[0m \u001b[38;5;28;01mif\u001b[39;00m (\u001b[38;5;28mcls\u001b[39m \u001b[38;5;129;01mis\u001b[39;00m \u001b[38;5;28;01mNone\u001b[39;00m \u001b[38;5;129;01mand\u001b[39;00m object_hook \u001b[38;5;129;01mis\u001b[39;00m \u001b[38;5;28;01mNone\u001b[39;00m \u001b[38;5;129;01mand\u001b[39;00m\n\u001b[0;32m    344\u001b[0m         parse_int \u001b[38;5;129;01mis\u001b[39;00m \u001b[38;5;28;01mNone\u001b[39;00m \u001b[38;5;129;01mand\u001b[39;00m parse_float \u001b[38;5;129;01mis\u001b[39;00m \u001b[38;5;28;01mNone\u001b[39;00m \u001b[38;5;129;01mand\u001b[39;00m\n\u001b[0;32m    345\u001b[0m         parse_constant \u001b[38;5;129;01mis\u001b[39;00m \u001b[38;5;28;01mNone\u001b[39;00m \u001b[38;5;129;01mand\u001b[39;00m object_pairs_hook \u001b[38;5;129;01mis\u001b[39;00m \u001b[38;5;28;01mNone\u001b[39;00m \u001b[38;5;129;01mand\u001b[39;00m \u001b[38;5;129;01mnot\u001b[39;00m kw):\n\u001b[1;32m--> 346\u001b[0m     \u001b[38;5;28;01mreturn\u001b[39;00m \u001b[43m_default_decoder\u001b[49m\u001b[38;5;241;43m.\u001b[39;49m\u001b[43mdecode\u001b[49m\u001b[43m(\u001b[49m\u001b[43ms\u001b[49m\u001b[43m)\u001b[49m\n\u001b[0;32m    347\u001b[0m \u001b[38;5;28;01mif\u001b[39;00m \u001b[38;5;28mcls\u001b[39m \u001b[38;5;129;01mis\u001b[39;00m \u001b[38;5;28;01mNone\u001b[39;00m:\n\u001b[0;32m    348\u001b[0m     \u001b[38;5;28mcls\u001b[39m \u001b[38;5;241m=\u001b[39m JSONDecoder\n",
      "File \u001b[1;32m~\\AppData\\Local\\Programs\\Python\\Python312\\Lib\\json\\decoder.py:337\u001b[0m, in \u001b[0;36mJSONDecoder.decode\u001b[1;34m(self, s, _w)\u001b[0m\n\u001b[0;32m    332\u001b[0m \u001b[38;5;28;01mdef\u001b[39;00m \u001b[38;5;21mdecode\u001b[39m(\u001b[38;5;28mself\u001b[39m, s, _w\u001b[38;5;241m=\u001b[39mWHITESPACE\u001b[38;5;241m.\u001b[39mmatch):\n\u001b[0;32m    333\u001b[0m \u001b[38;5;250m    \u001b[39m\u001b[38;5;124;03m\"\"\"Return the Python representation of ``s`` (a ``str`` instance\u001b[39;00m\n\u001b[0;32m    334\u001b[0m \u001b[38;5;124;03m    containing a JSON document).\u001b[39;00m\n\u001b[0;32m    335\u001b[0m \n\u001b[0;32m    336\u001b[0m \u001b[38;5;124;03m    \"\"\"\u001b[39;00m\n\u001b[1;32m--> 337\u001b[0m     obj, end \u001b[38;5;241m=\u001b[39m \u001b[38;5;28;43mself\u001b[39;49m\u001b[38;5;241;43m.\u001b[39;49m\u001b[43mraw_decode\u001b[49m\u001b[43m(\u001b[49m\u001b[43ms\u001b[49m\u001b[43m,\u001b[49m\u001b[43m \u001b[49m\u001b[43midx\u001b[49m\u001b[38;5;241;43m=\u001b[39;49m\u001b[43m_w\u001b[49m\u001b[43m(\u001b[49m\u001b[43ms\u001b[49m\u001b[43m,\u001b[49m\u001b[43m \u001b[49m\u001b[38;5;241;43m0\u001b[39;49m\u001b[43m)\u001b[49m\u001b[38;5;241;43m.\u001b[39;49m\u001b[43mend\u001b[49m\u001b[43m(\u001b[49m\u001b[43m)\u001b[49m\u001b[43m)\u001b[49m\n\u001b[0;32m    338\u001b[0m     end \u001b[38;5;241m=\u001b[39m _w(s, end)\u001b[38;5;241m.\u001b[39mend()\n\u001b[0;32m    339\u001b[0m     \u001b[38;5;28;01mif\u001b[39;00m end \u001b[38;5;241m!=\u001b[39m \u001b[38;5;28mlen\u001b[39m(s):\n",
      "File \u001b[1;32m~\\AppData\\Local\\Programs\\Python\\Python312\\Lib\\json\\decoder.py:355\u001b[0m, in \u001b[0;36mJSONDecoder.raw_decode\u001b[1;34m(self, s, idx)\u001b[0m\n\u001b[0;32m    353\u001b[0m     obj, end \u001b[38;5;241m=\u001b[39m \u001b[38;5;28mself\u001b[39m\u001b[38;5;241m.\u001b[39mscan_once(s, idx)\n\u001b[0;32m    354\u001b[0m \u001b[38;5;28;01mexcept\u001b[39;00m \u001b[38;5;167;01mStopIteration\u001b[39;00m \u001b[38;5;28;01mas\u001b[39;00m err:\n\u001b[1;32m--> 355\u001b[0m     \u001b[38;5;28;01mraise\u001b[39;00m JSONDecodeError(\u001b[38;5;124m\"\u001b[39m\u001b[38;5;124mExpecting value\u001b[39m\u001b[38;5;124m\"\u001b[39m, s, err\u001b[38;5;241m.\u001b[39mvalue) \u001b[38;5;28;01mfrom\u001b[39;00m \u001b[38;5;28;01mNone\u001b[39;00m\n\u001b[0;32m    356\u001b[0m \u001b[38;5;28;01mreturn\u001b[39;00m obj, end\n",
      "\u001b[1;31mJSONDecodeError\u001b[0m: Expecting value: line 1 column 1 (char 0)"
     ]
    }
   ],
   "source": [
    "#got to the URL that contains all the btc api data in json format\n",
    "request = urllib.request.Request(url)\n",
    "\n",
    "#catch all the data from that URL\n",
    "response = urllib.request.urlopen(request)\n",
    "\n",
    "response.read()\n",
    "#pull out all the JSON from response (its a list?)\n",
    "crypto_json = json.loads(response.read())\n",
    "# print(crypto_json)"
   ]
  },
  {
   "cell_type": "code",
   "execution_count": 20,
   "id": "049aba4b-2955-4e53-99c1-2275f0fe983e",
   "metadata": {},
   "outputs": [
    {
     "ename": "NameError",
     "evalue": "name 'crypto_json' is not defined",
     "output_type": "error",
     "traceback": [
      "\u001b[1;31m---------------------------------------------------------------------------\u001b[0m",
      "\u001b[1;31mNameError\u001b[0m                                 Traceback (most recent call last)",
      "Cell \u001b[1;32mIn[20], line 3\u001b[0m\n\u001b[0;32m      1\u001b[0m \u001b[38;5;66;03m#getting the bitcoin price change from the API (also turning strings into float):\u001b[39;00m\n\u001b[0;32m      2\u001b[0m \u001b[38;5;66;03m#crypto_value_change = float(\"0.6\") #<--practicing use\u001b[39;00m\n\u001b[1;32m----> 3\u001b[0m crypto_value_change \u001b[38;5;241m=\u001b[39m \u001b[38;5;28mfloat\u001b[39m(\u001b[43mcrypto_json\u001b[49m[\u001b[38;5;241m0\u001b[39m][\u001b[38;5;124m\"\u001b[39m\u001b[38;5;124mpercent_change_24h\u001b[39m\u001b[38;5;124m\"\u001b[39m])\n\u001b[0;32m      4\u001b[0m \u001b[38;5;28mprint\u001b[39m(crypto_value_change)\n",
      "\u001b[1;31mNameError\u001b[0m: name 'crypto_json' is not defined"
     ]
    }
   ],
   "source": [
    "#getting the bitcoin price change from the API (also turning strings into float):\n",
    "#crypto_value_change = float(\"0.6\") #<--practicing use\n",
    "crypto_value_change = float(crypto_json[0][\"percent_change_24h\"])\n",
    "print(crypto_value_change)"
   ]
  },
  {
   "cell_type": "code",
   "execution_count": 21,
   "id": "9e7d375e-1997-46a4-a736-75cc75352413",
   "metadata": {},
   "outputs": [
    {
     "name": "stdout",
     "output_type": "stream",
     "text": [
      "{'username': '31iwfpobqakfocki6wgkvh5tszcq', 'client_id': '4e1b93554f19412f938be0043da94494', 'client_secret': '41055131c57a40c09da497fc7abfcc6b', 'redirect': 'http://google.com'}\n"
     ]
    }
   ],
   "source": [
    "#now,set up spotify APIs, the spotifykeys.json is already a json, hence no need to use read.() to open as text doc first\n",
    "# and turn whatever python grabbed into json format\n",
    "with open(\"spotifykeys.json\" , \"r\") as spotify_file:\n",
    "    tokens = json.load(spotify_file)\n",
    "\n",
    "print(tokens)"
   ]
  },
  {
   "cell_type": "code",
   "execution_count": 84,
   "id": "4c09d025-c63c-481e-86a6-04121527e9b3",
   "metadata": {},
   "outputs": [],
   "source": [
    "#now setting up a varibles anmes for the items inside the tokens\n",
    "my_username = tokens[\"username\"]\n",
    "my_client_id = tokens[\"client_id\"]\n",
    "my_client_secret = tokens[\"client_secret\"]\n",
    "my_redirect = tokens[\"redirect\"]"
   ]
  },
  {
   "cell_type": "code",
   "execution_count": 85,
   "id": "47a0c201-98e8-472d-a16c-a24184ac2e74",
   "metadata": {},
   "outputs": [],
   "source": [
    "scope = 'user-read-private user-read-playback-state user-modify-playback-state playlist-modify-public'\n",
    "token = util.prompt_for_user_token(my_username, scope, client_id= my_client_id, client_secret = my_client_secret, redirect_uri = my_redirect)"
   ]
  },
  {
   "cell_type": "code",
   "execution_count": 86,
   "id": "cbc9f7fa-cd68-4943-97da-8075ec8ce5ca",
   "metadata": {},
   "outputs": [
    {
     "name": "stdout",
     "output_type": "stream",
     "text": [
      "{'devices': [{'id': '5bb82383f1a39e739a0c4cc37e25e7771140d362', 'is_active': False, 'is_private_session': False, 'is_restricted': False, 'name': 'LAPTOP-ERLSK7UI', 'supports_volume': True, 'type': 'Computer', 'volume_percent': 78}, {'id': 'fb514e9dcdfeb876a996aa2f6a0c1c1cb4983d30', 'is_active': False, 'is_private_session': False, 'is_restricted': False, 'name': 'Web Player (Chrome)', 'supports_volume': True, 'type': 'Computer', 'volume_percent': 41}]}\n"
     ]
    }
   ],
   "source": [
    "#now make the variable object that interacts with Spotify API\n",
    "#connect the code with this device (Homan) spotify account in this device\n",
    "sp = spotipy.Spotify(auth=token)\n",
    "devices = sp.devices()\n",
    "print(devices)"
   ]
  },
  {
   "cell_type": "code",
   "execution_count": 87,
   "id": "fc0227c3-3533-4fa7-a8ef-b4a0b3707485",
   "metadata": {},
   "outputs": [
    {
     "name": "stdout",
     "output_type": "stream",
     "text": [
      "5bb82383f1a39e739a0c4cc37e25e7771140d362\n"
     ]
    }
   ],
   "source": [
    "#Getting this specific computer ID\n",
    "deviceID = devices[\"devices\"][0][\"id\"]\n",
    "print(deviceID)"
   ]
  },
  {
   "cell_type": "code",
   "execution_count": 88,
   "id": "997c6daa-78d2-4def-8765-4abb5838f4f5",
   "metadata": {
    "scrolled": true
   },
   "outputs": [
    {
     "name": "stdout",
     "output_type": "stream",
     "text": [
      "['6aJrZCpVchQwt2EgbjHEVU', '7163qsivY4bCw0oyyhDjEm', '7ABI7z7aTHnSyZofgiK1QM', '0YUlvT8mC1Sb610itNThE4', '4eoG0sSYcSzDz5eTDcfm7j', '2N9rLVWsPJ5ybXb634zwot', '2H9oqrEi6rTq2aDTiis5nM', '3UwzhjoAoYm93Ai8Z9MBIE', '3M42Kn6bGYuSsrPUr6Mjxr', '377OgnRUHtSNGkctzMvrWb', '3qbAJp6jrC6H8pDslQqijZ', '0lHOHf8a6efamI252HM3Te', '0kFcGxoq1OFVQXfjnuJjbN', '5T7wgsZz43Tz890Tqxsxgo', '2FnyMkjpUpO46T29L1w7Mg', '2ej6EyAtjsVx4X2v13piNi', '2cfzpGpxeTbUpM99DF8rIO', '4GEhLyiNVnpioIIBVvj77j', '6yPepXY8N2KNj7ygRBuMAM', '4JyAzQIl37R8CSmbaQubcw', '3Wc4n5RRvCPExGWjiCHAol', '24B4HXrX4hP5Z7lAWyqcpd', '6RALq3dSBAsf7e5cAZlveW', '0F4EUJPhMJ8VE5KDvRIIyh', '607Q1AnD5qmKqqiL9uXgpP', '78B6WAMeSpTSqWDaz3PW95', '2l30MbgwfClXlgkhxyU5VK', '10QjhQBHc5zKHAX5LWClTM', '0QYEtP4tVXwQS9uHwMUzUG', '4iZUJ3TEMKIWpa450WVPML', '3qRGOJF4Rexfv5yV8UGY8E', '56LJTuzC3jIqUcLFNG6KZ2', '2djmQ1OECXmCbYpTSLYU4r', '3LqGO1FdcCHirQE6EVpjyJ', '55BNZ1jW3WSvWTRAQZHxSy', '5MlWuTkNudKghgBzH9jAL9', '1OseXaxvHZU99ZQ8ZmzOSY', '69sYlkz9DDLu560f6KT3tl', '2ljnFMmGDvh6KenAv9l4tt', '5DquZSJ92fC5Xx194YsCxE', '7a0noHy0FmDcXSpanGhVPK', '1ekhFrHhLDPbtCucuX5C00', '13LyePil7G4EHjNiseC9EA', '2vCMX32LYtUxxDPnVlq0mp', '5QM1xjcwwiD0wbgDG5bXAp', '5uPZyIll8d2O6bKj80do0s', '4TdFpz9wgjc8Aq8dny4kOn', '5FQ1EDjelAkNQM3AtCYBlE', '5RXNoirdn0qWkSUxdBhaft', '15gZbVNGyz5Tvk2wiCx5bS', '4TPQDUDxsvRbiqxocCAnQO', '4MmM0GpeL6q86tq254mOeW', '5G0WaRZpy3isIwdtfiIaDY', '260QpJ3rjyhThLKt3BCwiS', '4G1mVQvtiAd3m15cdheuTP', '3dxHrCNnMQRDpcdCF8tZuJ', '68o3oUpWd5HxlH2teOWhpv', '7rQiW2mJDbP77h2RLlASTw', '1x8pykG3h9nSUaTmrIY81W', '3015awX29KC1iAB4yYnbsB', '6BrGsniZgihuPL0RBDbNDs', '6PHMAj1cmW8rVJKRSm2DZo', '5ZtPJcL6yYfWhru4Qu5rRG', '2x7RlICX3gkbYHT4p1vpTV', '7Mwan7xpz2ztOTi23sitvV', '2lQFOschKcGfReREUPuK4K', '0O07AqLBHk6ltqym0JLGs4', '48wSqpGykHiN4nKELjMmqh', '18aFbVax8NkN84IbUYzpjG', '4Dem9YCJ0dYnoXnDCotQLC', '4kwS7gHJk57Cvght0GsI2C', '75Fb1OPLpSXyakIfowJEgr', '6zJuzhRI4Syj4atl08PTJo', '7suwdHe9b0B2ahALSt5uZP', '6eUi2OYmhs1fJRXBWAdJa7', '0ZYyoVN7nMMpu1CieZG7Lz', '2732HrABPB9xv1f8msqSXK', '2hOWii4gNt4no5rlxvr87Y', '4K5zoE8fUmBsOZwhg3fMQU', '3cFNHOsx2WR3tgKvJCaGPr', '4blOAf66e2N9pi2WzWTZOy', '5x5fLgOGird7SdI1mc9nIO', '1695gkjIEjVvrkvBzzQG9L', '15Kql3rd9BTY8xm93wbPcB', '4Lzh7eWqUcUSIEiXpf5WnK', '6XkeFY5kfb32OrRcXbxqB5', '5vFr7zzknKMTJM0rmtGUcg', '6LYc97D6eqx0yuKHNDSrVO', '3vhuCxWDXxzCDcmO5b92c3', '66Xgi9XVSRHxXIgBbgvOLx', '2dfygnmIz5YktSNUY5Y4hy', '1JSINQGjvqoSvrKrUKM3Jl', '49tdf0N31dYg8aVyMvP31S', '0S26HaR69O28B5S635pbb7', '2V69kQ3CbDhAAotrZRYjho', '3S8wc5pB2u624Ouh5IRB4X', '2qrloU7WunYt29TAtSRAQr', '3zqXSDufyleq56qkLyezLg', '5LcZxxf53Xq4Go80NZqc20', '5gQixujaVnxs04s4b9K3iB', '7zh6u8X379EOHSDnsPQfza', '5Rk9RGA6XePfFNgvKH8u5q', '7163qsivY4bCw0oyyhDjEm', '6aJrZCpVchQwt2EgbjHEVU', '2N9rLVWsPJ5ybXb634zwot', '2H9oqrEi6rTq2aDTiis5nM', '4ViREn8udbZh4KygdfRc5n', '07zJ7099eG4485mwhNYl4b', '0OfFqQbePX8HqDbQQvSe9c', '72vMDtzTek6AjaYLI0K7Jc', '377OgnRUHtSNGkctzMvrWb', '0lHOHf8a6efamI252HM3Te', '5DvC2jJsEJH3tePLTl5M0P', '0kFcGxoq1OFVQXfjnuJjbN', '2FnyMkjpUpO46T29L1w7Mg', '5T7wgsZz43Tz890Tqxsxgo', '2cfzpGpxeTbUpM99DF8rIO', '7cocf5HdG5e6wHgKai1OQ7', '6yPepXY8N2KNj7ygRBuMAM', '02DHkexknu8KqF2kbeqAiM', '7euRNaKce7vB6E07cwgwNz', '1lFz37TZA6TxPqDbfy69Bz', '39unKv803WXW7st3XtqoCU', '5fj6Zee73Dkf2y7ZEei3Aq', '10QjhQBHc5zKHAX5LWClTM', '5KJIJlFQcjoWxro0MKzi7m', '0B8m4jcEek8oqmh5WXD0Nd', '5y6tVV4iMQT2Ga9A7LqibC', '3LqGO1FdcCHirQE6EVpjyJ', '0QYEtP4tVXwQS9uHwMUzUG', '2vIvfdThJAgWczYcAwWrIi', '79Ca7MVJkvdS9AYKbTTPDx', '5MlWuTkNudKghgBzH9jAL9', '12jnbUIQEO0vTegZDeiQbD', '79E2HLG3w06McgoRGmO5jI', '20jnS4YeKHlpiqGq479Kiv', '1c7kUSebxQcnxNBuKy7jqf', '0RbKdDYKQhZ81moQgcFBr3', '0ojcdEtggp2MXnCYqNXYBj', '37xKeK97MFWe8G8KeU2nAk', '7a0noHy0FmDcXSpanGhVPK', '6VGuNmNcLO69J5LBPfS8Du', '6oWvx9z3csICcBPc9iLvFe', '7J7B1Z25iTn8s8fJ3yfr3R', '3zG5UZFl8YPKYIOyytAWIn', '7tRwlOfDQ3slGLwllqF0TG', '0prxwx2C4yFgn3fqeTs9lB', '5QM1xjcwwiD0wbgDG5bXAp', '5FQ1EDjelAkNQM3AtCYBlE', '6aWdUjlVgbbVm9QxF7TJgP', '4TPQDUDxsvRbiqxocCAnQO', '4MmM0GpeL6q86tq254mOeW', '5G0WaRZpy3isIwdtfiIaDY', '3dxHrCNnMQRDpcdCF8tZuJ', '1Qw08BjxE24fJOs6oTvWnY', '1FibLxlakPaXAZ3bctWThU', '0pQtR4HAdfFON1nzLLFTiG', '7rQiW2mJDbP77h2RLlASTw', '1x8pykG3h9nSUaTmrIY81W', '2x7RlICX3gkbYHT4p1vpTV', '6PHMAj1cmW8rVJKRSm2DZo', '3js0s0JBZYAjr1lwpoifnr', '7AZOUfX9xk2XNURtUfAg5f', '7Mwan7xpz2ztOTi23sitvV', '6G0u5X07sKSlO6X5zYc070', '0ZYyoVN7nMMpu1CieZG7Lz', '2lQFOschKcGfReREUPuK4K', '48wSqpGykHiN4nKELjMmqh', '4Dem9YCJ0dYnoXnDCotQLC', '75Fb1OPLpSXyakIfowJEgr', '6zJuzhRI4Syj4atl08PTJo', '7suwdHe9b0B2ahALSt5uZP', '4xD7BKFWiQumA02FjwKHzz', '6eUi2OYmhs1fJRXBWAdJa7', '5JgzNqiy2ITxUPUvkZNSBn', '2732HrABPB9xv1f8msqSXK', '5bbhsc1iXmOImjRmrpEKrB', '2hOWii4gNt4no5rlxvr87Y', '5iuIMQqGk7ivIPu5eWn95A', '4K5zoE8fUmBsOZwhg3fMQU', '5lDNkOxzeedHFqA5O4fGBi', '0aIXPVVZArfwTOrPYSOaa5', '3cFNHOsx2WR3tgKvJCaGPr', '1695gkjIEjVvrkvBzzQG9L', '0gEYwHvtrpj1Of9h8BVNyM', '5JJ23z0GVJ9lHyTbcFMZdS', '5vFr7zzknKMTJM0rmtGUcg', '4idGeR87oa8tKdFCAbvWg0', '66Xgi9XVSRHxXIgBbgvOLx', '7uCICLmY6gZSGwLDGWGwEV', '1JSINQGjvqoSvrKrUKM3Jl', '06MRzMeGd9yolYYrsDf59Q', '49tdf0N31dYg8aVyMvP31S', '0S26HaR69O28B5S635pbb7', '2V69kQ3CbDhAAotrZRYjho', '7EbUnyaMj60rKI3eTRgdRI', '4uIxk8HaEMfe4z3ZaqI5oT', '5gQixujaVnxs04s4b9K3iB', '0RRXWAZttn9GYNZgu3YAmY', '5oursMaBLlBolWKHCcBrlI', '3dxHrCNnMQRDpcdCF8tZuJ', '5LDjHCLQPbQHh6sWu2XtN8', '3unTBOecWHA0GrBrzG8H18', '2x7RlICX3gkbYHT4p1vpTV', '5ieSUwPKK7lOXQ9Ss9yZDX', '1rKBxS77JYItY9FWgzte9Y', '6BPksZKJ3YKACbkgpFJYEe', '1uNtwrlOiKVPgR35kiQqWs', '3i2aJbrVebidCTVt8LhKUt', '6gV9ACc4sQAZmHpuRPHdY3', '3GC6WZiEacMsdo5HKwcdHq', '12ktlId6ao6J32xLNixOln', '4WhbPrnhoPLW5uFgZxFzt7', '1XGCQlt0EMkHxn95ZaSQCc', '65PPLrlOxoAPAPt1SBjHX8', '5blAab2h1hgZQWEfSBCsry', '16SRVBVnwnTQ7T0x2L7B8M', '6ahP6RPb9DmleRGx6gQyaB', '30oMeUbf2LfkQAQarvCA0s', '58jfrevZfFEzcMN0PYZEnt', '7kUxjfC4F53iDU6lMYdENw', '7vZO5bvKOhEnaqt4Duq0Hi', '1ymLl5WtFTIwSiZ401MOwS', '49K1Lbfgy8pwhFs49NAerU', '6r7ayTQwslXYqolO4Zvi6p', '2Npt9ecZzfZ9sNhyoBp6SU', '0gUzLX20GERPkoGHUJgxHk', '0mQHIVoXrS1faOKoxoAxPt', '3tOPp3FoRVvsdkOyjfQ092', '3S4RYCinc0KilX4BE1oQnY', '2ikNvScmN0UEltBsz5ZJwC', '2oq2Yf18XLMPutRFUdHQvf', '37nIzseTFcculcij3n9wEV', '2jx9RaBBQ5SZSq5uWeZptL', '6O8ebjGVmss30GlPMbELMk', '4phurWkWfk0ebFL0bRjcKc', '794UscZFdxs15GQgvzpyPD', '6agrwfv8IW50vwZqnLCmTy', '5FI8q118xmugEjOQrHxJfU', '5lhKHy0xNsSwoW5ZmdhQtq', '0tSsLt46EPMbnEkXrB1F4a', '09lk06xzI7Y6BjQJTuqv25', '0Va3WQPh4T35yxtjGamXyE', '6e9AGSUOjr4omkPd8T094n', '4QlNLjM4ASnjaVoSZeCUdi', '07rOsT50F00MUpz7wy8GlD', '3cEL063RXU4SSjNUtgFAVi', '1SQVaha3CSuKS6OH7lRqxF', '5S2ead4eg7tUCDqRzU8SyD', '0H9CrPurYqVi8wU9GxMbTA', '09wDsz8YizhgjzQ2C4XLL8', '6ubRBGdk6XbaKvdvVtZNg2', '30UAT9bBbncIvXGCixCEsK', '7oQSevUCbYs4QawXTHQVV1', '16EwXuK2Qy4wok6VSM3Wxv', '3U8o2tvH0n5N3GJbBR4vvB', '7iwHvh3Gbdhg0zalRc1UEs', '2bo3o3i0OnjBghdoXJ7rR0', '1QUZSKT7ZQ1NbiWm2OZOv4', '4DqboQrfSoz3OYJgXPJ58v', '4qmsUQUWMoLS4oRv4rr2Zk', '4RZBJgDzmIDA3pzGpg5icG', '1IESwPC0qJHInBpMWUixL9', '5mV4M2O3tpKYsyNxCKp15F', '41joNsxKjVKgQJ97E2EJjP', '5SMolo3bLUix6sKOPuv60C', '1W6SYY6cokVi9qSssvSzIB', '77MLSlpdbGvZ4UTqauAmtp', '0YHskuCyXNG5019mNKIX7s', '2OvDSBsuUGLPAw0WJlfuCo', '6yXIsfDpGkOKNyIzHcRNsa', '4rPEEeiRV7d0LVWm8CQjGv', '00mPEWpuREjjiemeFahrJv', '0LTOCgWWBnWznoQjuz0TvX', '4Pl2HXqT4xwmiOkqTPcBJ0', '0tJvqnEUWSW5XhTFa11OAK', '0kiGzj36T318p2JPNMMntb', '04cehNfenjbCjgj7rM9Wup', '5XrBkPT5fV0fT30yMwwOoi', '6iYK9HV8OjT42dYwDrBEXZ', '4kTmkT7IeB5jBitRhX7Bcq', '2YUlmWpP2WC1Yh8wzblMSu', '2fDT4YiGSN3lylpRQ4BMVo', '0KRl1jtdrUuJK91KWu8aIG', '5JDUVpgmadT7zS3t1iHm3a', '6wcWYONsa1wGcmhu3WX7SK', '2X4TvpxHHPTHdtuxpOds0w', '7rnjy09PHwkOYV4i82my5e', '0bjW2E4P6HPLIoHe4HrKW6', '3dK9LS9OsoIqhPA83XRWvU', '5vOkkOm5wqnbJXs57CChvu', '6CaH0ZUL9fYDrCfMySLccB', '0ihYJvawIuez8llZiaUKOh', '3zspdT88UngVpppFHOc9b7', '5jtstlf86iZyNCr2cRtkQx', '6OwgIC3U8C4272msNqACRD', '5SrtUxoNvBWsshEtLMiqf9', '613pkTcEqoSEcAIvHrxZfY', '6hS95wNgj7lHlo078MScwk', '7aLJrhWLgqsqAtWtje6USy', '2neVlwVPJPyPHeQjH7Hgws', '38XLI79AodguP0ywsuDENE', '4zifgSriN5LUBrHquq0Owo', '47LORWfjHm9O4GgltBIc2f', '0HONQOGA4aIr13Mygl6YIB', '7nyeJhqPreK0rdykF7jJeO', '6Z0hzOGTnRTchgQ1jHls1A', '1kbkM91CYM1FJVcbH70ysh', '09C7t29Dx8VQ7NXBKK9L23', '4X0Y5Ha1xmyIlAdNVKzsBE', '6DY87VfMuVbMB9h0bcpG58', '4fABeNMPIkQY54bioBNtkZ', '7obBYIBM4RSONWpfYHEhAJ', '0oYuIQOWVbwv4vknN3jmJM', '2anrCccNYsLO6ylwAoghRa', '3E0cHpMLNUNIdjSEoFtEuh', '7dJPdkMEbbzv0ICpBodzm6', '1rgZAAKH1CC5FJjAemeo7Y', '6FLGCU9LtVXSggYnPFL8sk', '023tRkUoXKskferUnsd9F0', '5jpYP7URZzIYJojYFyXmfj', '5oafsAz8bLQTc2dnOJWff4', '6UvDD7L31ldt0NhVhq420n', '0pkVVyVwuDuhtvbPBrfafS', '0i268j7KGnmcDYrRTCji7G', '0wXVdlaMLunLHgJ6BXeRcw', '1nD0uGqDbfMO6DIfjBsnNF', '3amkJOjPi7q5I1XD7kNeJa', '4P0KtQW9WhNCQhIAEtlGcn', '6ZjDTnPEiFIXpRIDgL5kOi', '3qJDxJi0AaQZ9AisM8Tbxc', '1ZO8S9X12QyZgGJ6t2q8bk', '7GrqDRIqgnQ1KHEdbOAEk3', '2jE2XPjL7rRy11KPeMOKoB', '2Nbnls4OoRJquxzIBvzFq6', '7fB86RmI1YdRbdiUn16TbE', '22BXSIBSLf2i3R7DolOvRn', '0MCHWfb2ynIuKmyXj1Lhvq', '4PCcIwLDBTBygPIdaGPAaE', '1kRZYuftIAxuoncUkFBTf2', '5jrUKCXm5XW22THci27Ygc', '2ct39Wdamc7ISfX5h4jtnb', '4P2EjoJDmTFwzdCoMKRH3f', '0RaQtWXPUYqPfxxBAXkmDa', '0BjCrp3UmOQVfS0KWiTMr1', '33MvgKDeRotnC1NVvJqBES', '3h6TaGqpk1qbu5wZea2vaR', '425HHY8NAmAuuoTKiKxBqI', '2NOZEHm5lEpyzB4u2SBsur', '4vM531aQ6gjlqpbV23bq3T', '1cVLPYH92bKZCfbNunVNEw', '5bfxB7MRF6uOSHpRl0rJCL', '20uUaRkfRJZG15mXfn7LaU', '7qJ0p9gRH2EU5KgRZZjMC2', '7wZ2akYBWqmJA3krhIWW3m', '4Y6ZygynyGAass4uDySBF9', '53g7ZIvZE47H9pwXPFYMCH', '65qBYY6NRQ9yWNVSZyQ69N', '1pUbq8HYfsqmnIlYJazoU5', '3KdoBxcCid8oulGrsF1CGy', '5YZZLvDyEZv1PCjylWyrul', '5XuaR0N1Dl5benFru2E4TV', '05iaC0YUwmOJt83hxBafn9', '2YqhBg20fN64BtwUKCtgZJ', '0bUQeQOumVRFwrLD92U6lM', '59MLvD3m7e4w76h85DN4Nh', '4KQCZIN3EbQSJQKMNY2xxv', '4r27KetZClMdD5GC3LKRig', '4kSKacywUJHdhyst4PL6pl', '2Wh51N0rSr5WPOdAdQ45oT', '0lAGqCxG0eCVB7C6MEJ4wW', '7LNC2lKpWmYQhfjg6Tob0W', '24my4aO5H8FG0gx83wM05Y', '1zwUQzC3tWDq8MyIGAAhhw', '5Qfxi5KJfkaPCrxG2Wx3Ne', '5bbhsc1iXmOImjRmrpEKrB', '4Hh28Kv8fpwc1kV5Q4fYc9', '5r0p752vClI32ugN7mHIbh', '62eZDopkVrLvjM8wAhJwT6', '4W4xv37qW4ByDd7vK4ctPL', '5o8gsuLH8YAUXjJ6iCV94Y', '5zWUPmxHV2SlneROGBg651', '3uD6ZQB58O7pT0GI8VmK0Z', '5DXLxxwIcuLOZI0FIu9f4t', '75pR6mHpZ8vOPKDdeoce72', '3NqtXEiGiMck1QzGYIU6Yf', '6mWsZZrVIEjwVIGsiiv03F', '0xWK8T2MsDk5uHQT4raGIJ', '6frEVcqMdQJ7UYhOG3vrAM', '0fSkLObOaeJrZ1iG3P0TmS', '0G06uy7hwcFqJdVfxQzXdt', '1RHuamHJnfIkMG4RboWiuv', '0UT7K12kUxp2r6Ak1Mzvxx', '32NTCBYLq1r6V7zzcwFe0q', '227NvmQKfrfDek2dOSzkgy', '0cDQsRgRrIZzmmjQeINZ7w', '0lJVXkgDJUlaWjr59CQM4w', '6Tuphu1oHzFuj0hzxiS4Ws', '3B7rMQgKzTkwFlLQLAzcQh', '20RHs3yLH8AZMab2qsOPqy']\n",
      "400\n"
     ]
    }
   ],
   "source": [
    "#Hacking spotify to return more than 50 tracks in a time!!!!! \n",
    "#You might want to retry couple times here cause sometimes the SpotifyAPI will return \"BAD REQUEST\"...\n",
    "\n",
    "track_ids = []\n",
    "offsets = [random.randint(0, 1000) for _ in range(8)]  # Generate 8 random offsets, means asking 8 times here\n",
    "\n",
    "#Setup keywords here (keyword for better song vibes)\n",
    "keyword = \"\"\n",
    "if float(crypto_value_change) < 0:\n",
    "    keyword = \"lost\" #BTC_DOWN\n",
    "else:\n",
    "    keyword = \"winning\" #BTC UP\n",
    "\n",
    "for offset in offsets:\n",
    "    track_results = sp.search(q=keyword, type=\"track\", limit=50, offset=offset)\n",
    "    for track in track_results[\"tracks\"][\"items\"]:\n",
    "        track_ids.append(track[\"id\"])\n",
    "\n",
    "\n",
    "print(track_ids)\n",
    "print(len(track_ids))"
   ]
  },
  {
   "cell_type": "code",
   "execution_count": 89,
   "id": "387dd012-73c5-41a1-818c-fae1dba54640",
   "metadata": {},
   "outputs": [
    {
     "name": "stdout",
     "output_type": "stream",
     "text": [
      "10\n",
      "['7163qsivY4bCw0oyyhDjEm', '377OgnRUHtSNGkctzMvrWb', '0lHOHf8a6efamI252HM3Te', '4JyAzQIl37R8CSmbaQubcw', '6RALq3dSBAsf7e5cAZlveW', '0F4EUJPhMJ8VE5KDvRIIyh', '2djmQ1OECXmCbYpTSLYU4r', '3LqGO1FdcCHirQE6EVpjyJ', '2ljnFMmGDvh6KenAv9l4tt', '7a0noHy0FmDcXSpanGhVPK']\n"
     ]
    }
   ],
   "source": [
    "# Epty list to collect filtered songs from the 200 tracks\n",
    "all_filtered_songs = [] \n",
    "\n",
    "#setting up the batch size (max 50 for spotify API)\n",
    "batch_size = 50  # Set the batch size to 50\n",
    "\n",
    "# the line below confirm that track_ids is not empty\n",
    "if track_ids:\n",
    "    for i in range(0, len(track_ids), batch_size):\n",
    "        batch_ids = track_ids[i:i + batch_size]  # Get the current batch of track IDs\n",
    "        \n",
    "        # Retrieve audio features for the current batch\n",
    "        ind_audio_features = sp.audio_features(batch_ids)  # Retrieve audio features for the batch\n",
    "        \n",
    "        # Filter out specific songs with the conditions applied\n",
    "        filtered_songs = []\n",
    "        \n",
    "        if crypto_value_change < 0.0:  # If Bitcoin goes DOWN\n",
    "            filtered_songs = [\n",
    "                track for track, features in zip(batch_ids, ind_audio_features)  # Use zip for each batch\n",
    "                if features  # Ensure that this songs has features datds\n",
    "                and (features[\"mode\"] == 0  and features[\"danceability\"] <= 0.3)\n",
    "                and ( features[\"tempo\"] <= 100\n",
    "                    or features[\"energy\"] <= 0.5\n",
    "                    or features[\"valence\"] <= 0.7\n",
    "                )\n",
    "            ]\n",
    "        else:  # If Bitcoin goes UP\n",
    "            filtered_songs = [\n",
    "                track for track, features in zip(batch_ids, ind_audio_features)  \n",
    "                if features  # Ensure features are available\n",
    "                and (features[\"mode\"] == 1 and features[\"danceability\"] >= 0.6)\n",
    "                and ( features[\"tempo\"] >= 110\n",
    "                    or features[\"energy\"] >= 0.7\n",
    "                    or features[\"valence\"] >= 0.4\n",
    "                )\n",
    "            ]\n",
    "        \n",
    "        # Collect filtered songs from the current batch\n",
    "        all_filtered_songs.extend(filtered_songs)\n",
    "\n",
    "# Limit to the first 10 tracks across all batches\n",
    "all_filtered_songs = all_filtered_songs[:10]\n",
    "\n",
    "# Output the count of filtered songs\n",
    "print(len(all_filtered_songs))  # Print the count of filtered songs\n",
    "print(all_filtered_songs)  # Optionally print the filtered song IDs"
   ]
  },
  {
   "cell_type": "code",
   "execution_count": 90,
   "id": "5b242f41-15ad-480a-88fe-2153fcfb96ca",
   "metadata": {},
   "outputs": [],
   "source": [
    "#Making a playlist and set to public\n",
    "my_playlist = sp.user_playlist_create(user=my_username, name= f\"BTC : {crypto_value_change}\",\n",
    "                                      public = True,\n",
    "                                      description = description)"
   ]
  },
  {
   "cell_type": "code",
   "execution_count": 91,
   "id": "031395bf-f3d9-4596-bebe-579e20e30d8f",
   "metadata": {},
   "outputs": [],
   "source": [
    "#getting the URL link for the image and convert to base64, images changes according to fluctuations\n",
    "\n",
    "sad_emoji = \"https://emoji.aranja.com/static/emoji-data/img-apple-160/1f622.png\"\n",
    "money_emoji = \"https://emoji.aranja.com/static/emoji-data/img-apple-160/1f911.png\"\n",
    "\n",
    "if float(crypto_value_change) < 0:\n",
    "    \n",
    "    image_url = sad_emoji #BTC_DOWN\n",
    "else:\n",
    "    image_url = money_emoji #BTC_UP\n",
    "\n",
    "\n",
    "cover_img = base64.b64encode(urlopen(image_url).read())"
   ]
  },
  {
   "cell_type": "code",
   "execution_count": 92,
   "id": "ba5c2f92-7c50-4df8-9af1-29afefcad7e1",
   "metadata": {},
   "outputs": [],
   "source": [
    "#second authentication for the image\n",
    "\n",
    "sp_oauth_credentials = SpotifyOAuth(\n",
    "    client_id = tokens[\"client_id\"],\n",
    "    client_secret = tokens[\"client_secret\"],\n",
    "    redirect_uri = tokens[\"redirect\"],\n",
    "    scope=\"playlist-modify-public ugc-image-upload\"\n",
    ")\n",
    "sp = spotipy.Spotify(auth_manager=sp_oauth_credentials)"
   ]
  },
  {
   "cell_type": "code",
   "execution_count": 93,
   "id": "38c06ee4-0691-437c-855d-19ebdfbdac4d",
   "metadata": {},
   "outputs": [],
   "source": [
    "# Setting up the description variable based on fluctuations\n",
    "if float(crypto_value_change) < 0:  # If the float value is negative\n",
    "    description = f\"Bitcoin price has decreased by {crypto_value_change}% today, life is unexpected sometimes.\"\n",
    "    \n",
    "else:  # If the value is zero or positive\n",
    "    description = f\"Bitcoin price has increased by {crypto_value_change}% today, go celebrate for your life!\""
   ]
  },
  {
   "cell_type": "code",
   "execution_count": 94,
   "id": "d581076c-a42c-4e1f-85e6-a3ff1ecd733d",
   "metadata": {},
   "outputs": [],
   "source": [
    "#Add images to the playlist\n",
    "sp.playlist_upload_cover_image(my_playlist['id'], cover_img)"
   ]
  },
  {
   "cell_type": "code",
   "execution_count": 95,
   "id": "329451bb-bbca-43e2-9121-e78824460c28",
   "metadata": {},
   "outputs": [
    {
     "data": {
      "text/plain": [
       "{'snapshot_id': 'AAAAA65sFdgOO39nlvncwuBqV7I7ap5l'}"
      ]
     },
     "execution_count": 95,
     "metadata": {},
     "output_type": "execute_result"
    }
   ],
   "source": [
    "#all_filtered_songs = list(set(all_filtered_songs))  # Deduplicate, if necessary\n",
    "#new_all_filtered_songs = all_filtered_songs[:10]  # Only take the first 10\n",
    "\n",
    "#now add the songs(uris) to that empty playlist I just created\n",
    "sp.user_playlist_add_tracks(my_username, my_playlist[\"id\"], all_filtered_songs)"
   ]
  },
  {
   "cell_type": "code",
   "execution_count": 96,
   "id": "be777bcb-35b1-4f80-b314-860e7880a00b",
   "metadata": {},
   "outputs": [
    {
     "data": {
      "text/plain": [
       "True"
      ]
     },
     "execution_count": 96,
     "metadata": {},
     "output_type": "execute_result"
    }
   ],
   "source": [
    "#open up via web App\n",
    "webbrowser.open(my_playlist[\"external_urls\"][\"spotify\"])"
   ]
  },
  {
   "cell_type": "code",
   "execution_count": 214,
   "id": "d48b91e7-2c59-439f-941b-88050ce4509f",
   "metadata": {},
   "outputs": [],
   "source": [
    "#open via APP (will not work if you dont have a premium account lol)\n",
    "#sp.start_playback(device_id=deviceID, context_uri=my_playlist[\"uri\"])"
   ]
  }
 ],
 "metadata": {
  "kernelspec": {
   "display_name": "Python 3 (ipykernel)",
   "language": "python",
   "name": "python3"
  },
  "language_info": {
   "codemirror_mode": {
    "name": "ipython",
    "version": 3
   },
   "file_extension": ".py",
   "mimetype": "text/x-python",
   "name": "python",
   "nbconvert_exporter": "python",
   "pygments_lexer": "ipython3",
   "version": "3.12.7"
  }
 },
 "nbformat": 4,
 "nbformat_minor": 5
}
